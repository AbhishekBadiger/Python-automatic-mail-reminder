{
 "cells": [
  {
   "cell_type": "code",
   "execution_count": 1,
   "metadata": {},
   "outputs": [
    {
     "ename": "KeyboardInterrupt",
     "evalue": "",
     "output_type": "error",
     "traceback": [
      "\u001b[1;31m---------------------------------------------------------------------------\u001b[0m",
      "\u001b[1;31mKeyboardInterrupt\u001b[0m                         Traceback (most recent call last)",
      "\u001b[1;32m<ipython-input-1-d1e3279a3a6c>\u001b[0m in \u001b[0;36m<module>\u001b[1;34m\u001b[0m\n\u001b[0;32m     57\u001b[0m \u001b[1;32mwhile\u001b[0m \u001b[1;32mTrue\u001b[0m\u001b[1;33m:\u001b[0m\u001b[1;33m\u001b[0m\u001b[1;33m\u001b[0m\u001b[0m\n\u001b[0;32m     58\u001b[0m     \u001b[0mschedule\u001b[0m\u001b[1;33m.\u001b[0m\u001b[0mrun_pending\u001b[0m\u001b[1;33m(\u001b[0m\u001b[1;33m)\u001b[0m\u001b[1;33m\u001b[0m\u001b[1;33m\u001b[0m\u001b[0m\n\u001b[1;32m---> 59\u001b[1;33m     \u001b[0mtime\u001b[0m\u001b[1;33m.\u001b[0m\u001b[0msleep\u001b[0m\u001b[1;33m(\u001b[0m\u001b[1;36m1\u001b[0m\u001b[1;33m)\u001b[0m\u001b[1;33m\u001b[0m\u001b[1;33m\u001b[0m\u001b[0m\n\u001b[0m",
      "\u001b[1;31mKeyboardInterrupt\u001b[0m: "
     ]
    }
   ],
   "source": [
    "import openpyxl \n",
    "import datetime as dt\n",
    "import time\n",
    "import smtplib\n",
    "import schedule\n",
    "\n",
    "\n",
    "def payment():\n",
    "    \n",
    "    wb = openpyxl.load_workbook('Insurance Data.xlsx')\n",
    "    sheet = wb['Sheet1']\n",
    "\n",
    "\n",
    "    tdy = dt.date.today()\n",
    "    d1 = tdy.strftime(\"%d-%m-%Y\")\n",
    "    tdelta = dt.timedelta(days=7)\n",
    "\n",
    "    duepayment = {}\n",
    "    for r in range(2, sheet.max_row + 1):\n",
    "        nppay = sheet.cell(row=r, column=6).value\n",
    "        nppays=nppay-tdelta\n",
    "        nppayment=nppays.strftime(\"%d-%m-%Y\")\n",
    "        if nppayment == d1:\n",
    "            premium = sheet.cell(row=r, column=9).value\n",
    "            frequency = sheet.cell(row=r, column=8).value\n",
    "            polname = sheet.cell(row=r, column=4).value\n",
    "            polnub= sheet.cell(row=r, column=3).value\n",
    "            Da = sheet.cell(row=r, column = 6).value\n",
    "            date = Da.strftime(\"%d-%m-%Y\")\n",
    "            name = sheet.cell(row=r, column=2).value\n",
    "            email= sheet.cell(row=r, column=7).value\n",
    "            duepayment[name] = email\n",
    "        \n",
    "        \n",
    "        \n",
    "    email_user = 'your mail'\n",
    "\n",
    "    server = smtplib.SMTP_SSL(\"smtp.gmail.com\", 465)\n",
    "    server.ehlo()\n",
    "    server.login(email_user, \"Password\")\n",
    "\n",
    "    for name, email in duepayment.items():\n",
    "        body = ('Subject: %s Due premium payment. \\n\\nDear Mr/Ms %s, \\nYour insurance policy named %s and ploicy no: %s.'\n",
    "            'your permium payment is having next due on %s, Please make this payment as you have %s mode.'\n",
    "            ' so pay as soon as possible within 7 working days.\\n%s/- premium. \\nThankyou!' % (polname, name, polname, polnub, date, frequency, premium))\n",
    "        print('Sending email to %s...' % email)\n",
    "    \n",
    "        sendmailStatus = server.sendmail(email_user, email, body)\n",
    "    \n",
    "        if sendmailStatus != {}:\n",
    "            print('There was a problem sending email to %s: %s' % (email, sendmailStatus))\n",
    "        \n",
    "    server.quit()\n",
    "    \n",
    "schedule.every(2).minutes.do(payment)\n",
    "\n",
    "while True:\n",
    "    schedule.run_pending()\n",
    "    time.sleep(1)"
   ]
  },
  {
   "cell_type": "code",
   "execution_count": null,
   "metadata": {},
   "outputs": [],
   "source": []
  }
 ],
 "metadata": {
  "kernelspec": {
   "display_name": "Python 3",
   "language": "python",
   "name": "python3"
  },
  "language_info": {
   "codemirror_mode": {
    "name": "ipython",
    "version": 3
   },
   "file_extension": ".py",
   "mimetype": "text/x-python",
   "name": "python",
   "nbconvert_exporter": "python",
   "pygments_lexer": "ipython3",
   "version": "3.8.5"
  }
 },
 "nbformat": 4,
 "nbformat_minor": 4
}
